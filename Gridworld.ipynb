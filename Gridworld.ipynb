{
  "cells": [
    {
      "cell_type": "markdown",
      "metadata": {
        "id": "view-in-github",
        "colab_type": "text"
      },
      "source": [
        "<a href=\"https://colab.research.google.com/github/CodeMaestro2001/LAB7_DEEP-LEARNING/blob/main/Gridworld.ipynb\" target=\"_parent\"><img src=\"https://colab.research.google.com/assets/colab-badge.svg\" alt=\"Open In Colab\"/></a>"
      ]
    },
    {
      "cell_type": "markdown",
      "metadata": {
        "id": "2Qu7isMPEIjF"
      },
      "source": [
        "# The agent-environment interaction\n",
        "\n",
        "In this exercise, you will implement the interaction of a reinforecment learning agent with its environment. We will use the gridworld environment from the second lecture. You will find a description of the environment below, along with two pieces of relevant material from the lectures: the agent-environment interface and the Q-learning algorithm.\n",
        "\n",
        "1. Create an agent that chooses actions randomly with this environment.\n",
        "\n",
        "2. Create an agent that uses Q-learning. You can use initial Q values of 0, a stochasticity parameter for the $\\epsilon$-greedy policy function $\\epsilon=0.05$, and a learning rate $\\alpha = 0.1$. But feel free to experiment with other settings of these three parameters.\n",
        "\n",
        "3. Plot the mean total reward obtained by the two agents through the episodes. This is called a **learning curve**. Run enough episodes for the Q-learning agent to converge to a near-optimal policy.\n"
      ]
    },
    {
      "cell_type": "markdown",
      "metadata": {
        "id": "HNGrAPCaEIjG"
      },
      "source": [
        "## The agent-environment interface\n",
        "\n",
        "<img src=\"https://raw.githubusercontent.com/dkasthurirathna/dl/master/agent-environment.png\" style=\"width: 500px;\" align=\"left\"/>\n",
        "\n",
        "<br><br><br>\n",
        "\n",
        "The interaction of the agent with its environments starts at decision stage $t=0$ with the observation of the current state $s_0$. (Notice that there is no reward at this initial stage.) The agent then chooses an action to execute at decision stage $t=1$. The environment responds by changing its state to $s_1$ and returning the numerical reward signal $r_1$.\n"
      ]
    },
    {
      "cell_type": "markdown",
      "metadata": {
        "id": "DZ-p0VgVEIjG"
      },
      "source": [
        "## The environment: Navigation in a gridworld\n",
        "\n",
        "<img src=\"https://raw.githubusercontent.com/dkasthurirathna/dl/master/gold.png\" style=\"width: 250px;\" align=\"left\"/>\n",
        "\n",
        "The agent has four possible actions in each state (grid square): west, north, south, and east. The actions are unreliable. They move the agent in the intended direction with probability 0.8, and with probability 0.2, they move the agent in a random other direction. It the direction of movement is blocked, the agent remains in the same grid square. The initial state of the agent is one of the five grid squares at the bottom, selected randomly. The grid squares with the gold and the bomb are **terminal states**. If the agent finds itself in one of these squares, the episode ends. Then a new episode begins with the agent at the initial state.\n",
        "\n",
        "You will use a reinforcement learning algorithm to compute the best policy for finding the gold with as few steps as possible while avoiding the bomb. For this, we will use the following reward function: $-1$ for each navigation action, an additional $+10$ for finding the gold, and an additional $-10$ for hitting the bomb. For example, the immediate reward for transitioning into the square with the gold is $-1 + 10 = +9$. Do not use discounting (that is, set $\\gamma=1$)."
      ]
    },
    {
      "cell_type": "markdown",
      "metadata": {
        "id": "yvw_VkX6EIjH"
      },
      "source": [
        "## Q-learning\n",
        "\n",
        "![title](https://raw.githubusercontent.com/dkasthurirathna/dl/master/q.png)\n",
        "From Sutton & Barto (1998), Reinforcement Learning."
      ]
    },
    {
      "cell_type": "code",
      "execution_count": 1,
      "metadata": {
        "id": "aj29nt13EIjH"
      },
      "outputs": [],
      "source": [
        "import numpy as np\n",
        "import operator\n",
        "import matplotlib.pyplot as plt\n",
        "%matplotlib inline"
      ]
    },
    {
      "cell_type": "markdown",
      "metadata": {
        "id": "YHWOrZ_1EIjL"
      },
      "source": [
        "# Classes for the Enviroment and the Agent"
      ]
    },
    {
      "cell_type": "markdown",
      "metadata": {
        "id": "5WdlTPDVEIjM"
      },
      "source": [
        "- The GridWorld class contains the environment\n",
        "- The dimensions of the environment are defined\n",
        "- Locations of all rewards are stored\n",
        "- Functions for different methods written\n",
        "    - `get_available_actions` returns possible actions\n",
        "    - `agent_on_map` prints out current location of the agent on the grid (used for debugging)\n",
        "    - `get_reward` returns the reward for an input position\n",
        "    - `make_step` moves the agent in a specified direction"
      ]
    },
    {
      "cell_type": "code",
      "execution_count": 2,
      "metadata": {
        "id": "vo67tnGZEIjM"
      },
      "outputs": [],
      "source": [
        "class GridWorld:\n",
        "    ## Initialise starting data\n",
        "    def __init__(self):\n",
        "        # Set information about the gridworld\n",
        "        self.height = 8\n",
        "        self.width = 8\n",
        "        self.grid = np.zeros(( self.height, self.width)) - 1\n",
        "\n",
        "        # Set random start location for the agent\n",
        "        self.current_location = ( 4, np.random.randint(0,5))\n",
        "\n",
        "        # Set locations for the bomb and the gold\n",
        "        self.bomb_location = (1,3)\n",
        "        self.gold_location = (0,3)\n",
        "        self.terminal_states = [ self.bomb_location, self.gold_location]\n",
        "\n",
        "        # Set grid rewards for special cells\n",
        "        self.grid[ self.bomb_location[0], self.bomb_location[1]] = -10\n",
        "        self.grid[ self.gold_location[0], self.gold_location[1]] = 10\n",
        "\n",
        "        # Set available actions\n",
        "        self.actions = ['UP', 'DOWN', 'LEFT', 'RIGHT']\n",
        "\n",
        "\n",
        "    ## Put methods here:\n",
        "    def get_available_actions(self):\n",
        "        \"\"\"Returns possible actions\"\"\"\n",
        "        return self.actions\n",
        "\n",
        "    def agent_on_map(self):\n",
        "        \"\"\"Prints out current location of the agent on the grid (used for debugging)\"\"\"\n",
        "        grid = np.zeros(( self.height, self.width))\n",
        "        grid[ self.current_location[0], self.current_location[1]] = 1\n",
        "        return grid\n",
        "\n",
        "    def get_reward(self, new_location):\n",
        "        \"\"\"Returns the reward for an input position\"\"\"\n",
        "        return self.grid[ new_location[0], new_location[1]]\n",
        "\n",
        "\n",
        "    def make_step(self, action):\n",
        "        \"\"\"Moves the agent in the specified direction. If agent is at a border, agent stays still\n",
        "        but takes negative reward. Function returns the reward for the move.\"\"\"\n",
        "        # Store previous location\n",
        "        last_location = self.current_location\n",
        "\n",
        "        # UP\n",
        "        if action == 'UP':\n",
        "            # If agent is at the top, stay still, collect reward\n",
        "            if last_location[0] == 0:\n",
        "                reward = self.get_reward(last_location)\n",
        "            else:\n",
        "                self.current_location = ( self.current_location[0] - 1, self.current_location[1])\n",
        "                reward = self.get_reward(self.current_location)\n",
        "\n",
        "        # DOWN\n",
        "        elif action == 'DOWN':\n",
        "            # If agent is at bottom, stay still, collect reward\n",
        "            if last_location[0] == self.height - 1:\n",
        "                reward = self.get_reward(last_location)\n",
        "            else:\n",
        "                self.current_location = ( self.current_location[0] + 1, self.current_location[1])\n",
        "                reward = self.get_reward(self.current_location)\n",
        "\n",
        "        # LEFT\n",
        "        elif action == 'LEFT':\n",
        "            # If agent is at the left, stay still, collect reward\n",
        "            if last_location[1] == 0:\n",
        "                reward = self.get_reward(last_location)\n",
        "            else:\n",
        "                self.current_location = ( self.current_location[0], self.current_location[1] - 1)\n",
        "                reward = self.get_reward(self.current_location)\n",
        "\n",
        "        # RIGHT\n",
        "        elif action == 'RIGHT':\n",
        "            # If agent is at the right, stay still, collect reward\n",
        "            if last_location[1] == self.width - 1:\n",
        "                reward = self.get_reward(last_location)\n",
        "            else:\n",
        "                self.current_location = ( self.current_location[0], self.current_location[1] + 1)\n",
        "                reward = self.get_reward(self.current_location)\n",
        "\n",
        "        return reward\n",
        "\n",
        "    def check_state(self):\n",
        "        \"\"\"Check if the agent is in a terminal state (gold or bomb), if so return 'TERMINAL'\"\"\"\n",
        "        if self.current_location in self.terminal_states:\n",
        "            return 'TERMINAL'"
      ]
    },
    {
      "cell_type": "code",
      "execution_count": 3,
      "metadata": {
        "id": "j5lVvvTaEIjP"
      },
      "outputs": [],
      "source": [
        "class RandomAgent():\n",
        "    # Choose a random action\n",
        "    def choose_action(self, available_actions):\n",
        "        \"\"\"Returns a random choice of the available actions\"\"\"\n",
        "        return np.random.choice(available_actions)"
      ]
    },
    {
      "cell_type": "code",
      "execution_count": 10,
      "metadata": {
        "id": "P3A4wx5DEIjR"
      },
      "outputs": [],
      "source": [
        "import numpy as np\n",
        "import random\n",
        "\n",
        "class Q_Agent:\n",
        "    # Initialise\n",
        "    def __init__(self, environment, epsilon=0.05, alpha=0.1, gamma=1):\n",
        "        self.environment = environment\n",
        "        self.q_table = {}\n",
        "        for x in range(environment.height):\n",
        "            for y in range(environment.width):\n",
        "                self.q_table[(x, y)] = {'UP': 0.0, 'DOWN': 0.0, 'LEFT': 0.0, 'RIGHT': 0.0}\n",
        "\n",
        "        self.epsilon = epsilon\n",
        "        self.alpha = alpha\n",
        "        self.gamma = gamma\n",
        "\n",
        "    def choose_action(self, available_actions):\n",
        "        \"\"\"\n",
        "        Epsilon-greedy action selection.\n",
        "        If multiple optimal actions exist, choose randomly among the best.\n",
        "        \"\"\"\n",
        "        #type your code here\n",
        "        # get current state from environment (adjust attribute name if different)\n",
        "        state = getattr(self.environment, \"agent_position\", None)\n",
        "        if state is None:\n",
        "            state = getattr(self.environment, \"agent_pos\", None)\n",
        "        if state is None:\n",
        "            raise ValueError(\"Environment must expose current state as 'agent_position' or 'agent_pos'.\")\n",
        "\n",
        "        # explore\n",
        "        if np.random.rand() < self.epsilon:\n",
        "            return random.choice(available_actions)\n",
        "\n",
        "        # exploit\n",
        "        q_at_state = self.q_table[state]\n",
        "        max_q = max(q_at_state[a] for a in available_actions)\n",
        "        best_actions = [a for a in available_actions if q_at_state[a] == max_q]\n",
        "        return random.choice(best_actions)\n",
        "\n",
        "    def learn(self, old_state, reward, new_state, action):\n",
        "        \"\"\"\n",
        "        Q-learning update:\n",
        "        Q(s,a) ← Q(s,a) + α [ r + γ max_a' Q(s',a') − Q(s,a) ]\n",
        "        \"\"\"\n",
        "        #typr your code here\n",
        "        q_sa = self.q_table[old_state][action]\n",
        "\n",
        "        if new_state in self.q_table:                 # if terminal not in table, treat as 0\n",
        "            next_max = max(self.q_table[new_state].values())\n",
        "        else:\n",
        "            next_max = 0.0\n",
        "\n",
        "        target = reward + self.gamma * next_max\n",
        "        self.q_table[old_state][action] = q_sa + self.alpha * (target - q_sa)\n"
      ]
    },
    {
      "cell_type": "code",
      "execution_count": 5,
      "metadata": {
        "id": "7YfXnEmTEIjT"
      },
      "outputs": [],
      "source": [
        "def play(environment, agent, trials=500, max_steps_per_episode=1000, learn=False):\n",
        "    \"\"\"The play function runs iterations and updates Q-values if desired.\"\"\"\n",
        "    reward_per_episode = [] # Initialise performance log\n",
        "\n",
        "    for trial in range(trials): # Run trials\n",
        "        cumulative_reward = 0 # Initialise values of each game\n",
        "        step = 0\n",
        "        game_over = False\n",
        "        while step < max_steps_per_episode and game_over != True: # Run until max steps or until game is finished\n",
        "            old_state = environment.current_location\n",
        "            action = agent.choose_action(environment.actions)\n",
        "            reward = environment.make_step(action)\n",
        "            new_state = environment.current_location\n",
        "\n",
        "            if learn == True: # Update Q-values if learning is specified\n",
        "                agent.learn(old_state, reward, new_state, action)\n",
        "\n",
        "            cumulative_reward += reward\n",
        "            step += 1\n",
        "\n",
        "            if environment.check_state() == 'TERMINAL': # If game is in terminal state, game over and start next trial\n",
        "                environment.__init__()\n",
        "                game_over = True\n",
        "\n",
        "        reward_per_episode.append(cumulative_reward) # Append reward for current trial to performance log\n",
        "\n",
        "    return reward_per_episode # Return performance log"
      ]
    },
    {
      "cell_type": "markdown",
      "metadata": {
        "id": "U8vRB7QcEIjV"
      },
      "source": [
        "## Run Random Agent\n",
        "\n",
        "- Random agent moves randomly and does not learn from it's actions.\n",
        "- This gives a base performance to compare the Q-Learning agent to"
      ]
    },
    {
      "cell_type": "code",
      "execution_count": 6,
      "metadata": {
        "colab": {
          "base_uri": "https://localhost:8080/"
        },
        "id": "SzqYMGCSEIjW",
        "outputId": "2c4f8ae8-c84e-4891-c3ca-ac3dca00009d"
      },
      "outputs": [
        {
          "output_type": "stream",
          "name": "stdout",
          "text": [
            "Current position of the agent = (4, 3)\n",
            "[[0. 0. 0. 0. 0. 0. 0. 0.]\n",
            " [0. 0. 0. 0. 0. 0. 0. 0.]\n",
            " [0. 0. 0. 0. 0. 0. 0. 0.]\n",
            " [0. 0. 0. 0. 0. 0. 0. 0.]\n",
            " [0. 0. 0. 1. 0. 0. 0. 0.]\n",
            " [0. 0. 0. 0. 0. 0. 0. 0.]\n",
            " [0. 0. 0. 0. 0. 0. 0. 0.]\n",
            " [0. 0. 0. 0. 0. 0. 0. 0.]]\n",
            "Available_actions = ['UP', 'DOWN', 'LEFT', 'RIGHT']\n",
            "Randomly chosen action = RIGHT\n",
            "Reward obtained = -1.0\n",
            "Current position of the agent = (4, 4)\n",
            "[[0. 0. 0. 0. 0. 0. 0. 0.]\n",
            " [0. 0. 0. 0. 0. 0. 0. 0.]\n",
            " [0. 0. 0. 0. 0. 0. 0. 0.]\n",
            " [0. 0. 0. 0. 0. 0. 0. 0.]\n",
            " [0. 0. 0. 0. 1. 0. 0. 0.]\n",
            " [0. 0. 0. 0. 0. 0. 0. 0.]\n",
            " [0. 0. 0. 0. 0. 0. 0. 0.]\n",
            " [0. 0. 0. 0. 0. 0. 0. 0.]]\n"
          ]
        }
      ],
      "source": [
        "env = GridWorld()\n",
        "agent = RandomAgent()\n",
        "\n",
        "print(\"Current position of the agent =\", env.current_location)\n",
        "print(env.agent_on_map())\n",
        "available_actions = env.get_available_actions()\n",
        "print(\"Available_actions =\", available_actions)\n",
        "chosen_action = agent.choose_action(available_actions)\n",
        "print(\"Randomly chosen action =\", chosen_action)\n",
        "reward = env.make_step(chosen_action)\n",
        "print(\"Reward obtained =\", reward)\n",
        "print(\"Current position of the agent =\", env.current_location)\n",
        "print(env.agent_on_map())"
      ]
    },
    {
      "cell_type": "markdown",
      "metadata": {
        "id": "re_kTTy1EIja"
      },
      "source": [
        "- Here the random agent is ran for 500 trials\n",
        "- Performance is obviously inconsistent and not optimal"
      ]
    },
    {
      "cell_type": "code",
      "execution_count": 7,
      "metadata": {
        "colab": {
          "base_uri": "https://localhost:8080/",
          "height": 448
        },
        "id": "Op2gsYAtEIjb",
        "outputId": "0c56b125-bca9-4d7c-e246-eb0e9e20cfbd"
      },
      "outputs": [
        {
          "output_type": "execute_result",
          "data": {
            "text/plain": [
              "[<matplotlib.lines.Line2D at 0x7d59280f5850>]"
            ]
          },
          "metadata": {},
          "execution_count": 7
        },
        {
          "output_type": "display_data",
          "data": {
            "text/plain": [
              "<Figure size 640x480 with 1 Axes>"
            ],
            "image/png": "[encoded data removed]"
          },
          "metadata": {}
        }
      ],
      "source": [
        "# Initialize environment and agent\n",
        "environment = GridWorld()\n",
        "random_agent = RandomAgent()\n",
        "\n",
        "reward_per_episode = play(environment, random_agent, trials=500)\n",
        "\n",
        "# Simple learning curve\n",
        "plt.plot(reward_per_episode)"
      ]
    },
    {
      "cell_type": "markdown",
      "metadata": {
        "id": "VQhwz2OSEIjd"
      },
      "source": [
        "## Q-Agent\n",
        "\n",
        "- Here the Q-Learning agent is ran for 500 trials again\n",
        "- Performance is plotted\n",
        "- Performance increases greatly"
      ]
    },
    {
      "cell_type": "code",
      "execution_count": 8,
      "metadata": {
        "colab": {
          "base_uri": "https://localhost:8080/",
          "height": 375
        },
        "id": "uZD-EiQkEIje",
        "outputId": "7a6c85d4-c1c0-47f3-ecc1-6b5507642cef"
      },
      "outputs": [
        {
          "output_type": "error",
          "ename": "NameError",
          "evalue": "name 'action' is not defined",
          "traceback": [
            "\u001b[0;31m---------------------------------------------------------------------------\u001b[0m",
            "\u001b[0;31mNameError\u001b[0m                                 Traceback (most recent call last)",
            "\u001b[0;32m/tmp/ipython-input-876111990.py\u001b[0m in \u001b[0;36m<cell line: 0>\u001b[0;34m()\u001b[0m\n\u001b[1;32m      3\u001b[0m \u001b[0;34m\u001b[0m\u001b[0m\n\u001b[1;32m      4\u001b[0m \u001b[0;31m# Note the learn=True argument!\u001b[0m\u001b[0;34m\u001b[0m\u001b[0;34m\u001b[0m\u001b[0m\n\u001b[0;32m----> 5\u001b[0;31m \u001b[0mreward_per_episode\u001b[0m \u001b[0;34m=\u001b[0m \u001b[0mplay\u001b[0m\u001b[0;34m(\u001b[0m\u001b[0menvironment\u001b[0m\u001b[0;34m,\u001b[0m \u001b[0magentQ\u001b[0m\u001b[0;34m,\u001b[0m \u001b[0mtrials\u001b[0m\u001b[0;34m=\u001b[0m\u001b[0;36m500\u001b[0m\u001b[0;34m,\u001b[0m \u001b[0mlearn\u001b[0m\u001b[0;34m=\u001b[0m\u001b[0;32mTrue\u001b[0m\u001b[0;34m)\u001b[0m\u001b[0;34m\u001b[0m\u001b[0;34m\u001b[0m\u001b[0m\n\u001b[0m\u001b[1;32m      6\u001b[0m \u001b[0;34m\u001b[0m\u001b[0m\n\u001b[1;32m      7\u001b[0m \u001b[0;31m# Simple learning curve\u001b[0m\u001b[0;34m\u001b[0m\u001b[0;34m\u001b[0m\u001b[0m\n",
            "\u001b[0;32m/tmp/ipython-input-4204078979.py\u001b[0m in \u001b[0;36mplay\u001b[0;34m(environment, agent, trials, max_steps_per_episode, learn)\u001b[0m\n\u001b[1;32m      9\u001b[0m         \u001b[0;32mwhile\u001b[0m \u001b[0mstep\u001b[0m \u001b[0;34m<\u001b[0m \u001b[0mmax_steps_per_episode\u001b[0m \u001b[0;32mand\u001b[0m \u001b[0mgame_over\u001b[0m \u001b[0;34m!=\u001b[0m \u001b[0;32mTrue\u001b[0m\u001b[0;34m:\u001b[0m \u001b[0;31m# Run until max steps or until game is finished\u001b[0m\u001b[0;34m\u001b[0m\u001b[0;34m\u001b[0m\u001b[0m\n\u001b[1;32m     10\u001b[0m             \u001b[0mold_state\u001b[0m \u001b[0;34m=\u001b[0m \u001b[0menvironment\u001b[0m\u001b[0;34m.\u001b[0m\u001b[0mcurrent_location\u001b[0m\u001b[0;34m\u001b[0m\u001b[0;34m\u001b[0m\u001b[0m\n\u001b[0;32m---> 11\u001b[0;31m             \u001b[0maction\u001b[0m \u001b[0;34m=\u001b[0m \u001b[0magent\u001b[0m\u001b[0;34m.\u001b[0m\u001b[0mchoose_action\u001b[0m\u001b[0;34m(\u001b[0m\u001b[0menvironment\u001b[0m\u001b[0;34m.\u001b[0m\u001b[0mactions\u001b[0m\u001b[0;34m)\u001b[0m\u001b[0;34m\u001b[0m\u001b[0;34m\u001b[0m\u001b[0m\n\u001b[0m\u001b[1;32m     12\u001b[0m             \u001b[0mreward\u001b[0m \u001b[0;34m=\u001b[0m \u001b[0menvironment\u001b[0m\u001b[0;34m.\u001b[0m\u001b[0mmake_step\u001b[0m\u001b[0;34m(\u001b[0m\u001b[0maction\u001b[0m\u001b[0;34m)\u001b[0m\u001b[0;34m\u001b[0m\u001b[0;34m\u001b[0m\u001b[0m\n\u001b[1;32m     13\u001b[0m             \u001b[0mnew_state\u001b[0m \u001b[0;34m=\u001b[0m \u001b[0menvironment\u001b[0m\u001b[0;34m.\u001b[0m\u001b[0mcurrent_location\u001b[0m\u001b[0;34m\u001b[0m\u001b[0;34m\u001b[0m\u001b[0m\n",
            "\u001b[0;32m/tmp/ipython-input-2172622080.py\u001b[0m in \u001b[0;36mchoose_action\u001b[0;34m(self, available_actions)\u001b[0m\n\u001b[1;32m     16\u001b[0m         Will make an exploratory random action dependent on epsilon.\"\"\"\n\u001b[1;32m     17\u001b[0m         \u001b[0;31m#type your code here\u001b[0m\u001b[0;34m\u001b[0m\u001b[0;34m\u001b[0m\u001b[0m\n\u001b[0;32m---> 18\u001b[0;31m         \u001b[0;32mreturn\u001b[0m \u001b[0maction\u001b[0m\u001b[0;34m\u001b[0m\u001b[0;34m\u001b[0m\u001b[0m\n\u001b[0m\u001b[1;32m     19\u001b[0m \u001b[0;34m\u001b[0m\u001b[0m\n\u001b[1;32m     20\u001b[0m     \u001b[0;32mdef\u001b[0m \u001b[0mlearn\u001b[0m\u001b[0;34m(\u001b[0m\u001b[0mself\u001b[0m\u001b[0;34m,\u001b[0m \u001b[0mold_state\u001b[0m\u001b[0;34m,\u001b[0m \u001b[0mreward\u001b[0m\u001b[0;34m,\u001b[0m \u001b[0mnew_state\u001b[0m\u001b[0;34m,\u001b[0m \u001b[0maction\u001b[0m\u001b[0;34m)\u001b[0m\u001b[0;34m:\u001b[0m\u001b[0;34m\u001b[0m\u001b[0;34m\u001b[0m\u001b[0m\n",
            "\u001b[0;31mNameError\u001b[0m: name 'action' is not defined"
          ]
        }
      ],
      "source": [
        "environment = GridWorld()\n",
        "agentQ = Q_Agent(environment)\n",
        "\n",
        "# Note the learn=True argument!\n",
        "reward_per_episode = play(environment, agentQ, trials=500, learn=True)\n",
        "\n",
        "# Simple learning curve\n",
        "plt.plot(reward_per_episode)"
      ]
    },
    {
      "cell_type": "markdown",
      "metadata": {
        "id": "nVVO8cY3EIjh"
      },
      "source": [
        "Print the final Q-value table with nice formatting."
      ]
    },
    {
      "cell_type": "code",
      "execution_count": null,
      "metadata": {
        "id": "cZ1eVXMMEIjh"
      },
      "outputs": [],
      "source": [
        "def pretty(d, indent=0):\n",
        "    for key, value in d.items():\n",
        "        print('\\t' * indent + str(key))\n",
        "        if isinstance(value, dict):\n",
        "            pretty(value, indent+1)\n",
        "        else:\n",
        "            print('\\t' * (indent+1) + str(value))\n",
        "\n",
        "\n",
        "pretty(agentQ.q_table)"
      ]
    },
    {
      "cell_type": "code",
      "execution_count": null,
      "metadata": {
        "id": "VBGERbMKEIjk"
      },
      "outputs": [],
      "source": []
    }
  ],
  "metadata": {
    "colab": {
      "provenance": [],
      "toc_visible": true,
      "include_colab_link": true
    },
    "kernelspec": {
      "display_name": "Python 3",
      "language": "python",
      "name": "python3"
    },
    "language_info": {
      "codemirror_mode": {
        "name": "ipython",
        "version": 3
      },
      "file_extension": ".py",
      "mimetype": "text/x-python",
      "name": "python",
      "nbconvert_exporter": "python",
      "pygments_lexer": "ipython3",
      "version": "3.8.8"
    }
  },
  "nbformat": 4,
  "nbformat_minor": 0
}